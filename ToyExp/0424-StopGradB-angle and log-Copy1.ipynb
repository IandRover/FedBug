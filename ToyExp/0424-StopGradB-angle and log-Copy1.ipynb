{
 "cells": [
  {
   "cell_type": "code",
   "execution_count": 1,
   "id": "37a72222-55f8-4150-8901-6f4d81d490a0",
   "metadata": {},
   "outputs": [],
   "source": [
    "import torch\n",
    "import torchvision\n",
    "import torchvision.transforms as transforms\n",
    "\n",
    "import matplotlib.pyplot as plt\n",
    "import numpy as np\n",
    "import copy\n",
    "\n",
    "import torch.optim as optim"
   ]
  },
  {
   "cell_type": "code",
   "execution_count": 2,
   "id": "d9ab1f76-c8be-4f55-b792-cd0eacdb897e",
   "metadata": {},
   "outputs": [],
   "source": [
    "def loss_func(pred, y): return (pred-y)**2"
   ]
  },
  {
   "cell_type": "code",
   "execution_count": 55,
   "id": "540dacdb-c431-4de4-8f93-652f8fdd957c",
   "metadata": {},
   "outputs": [],
   "source": [
    "def train(server_model, num_global_iters = 50, num_local_iters = 10, local_iter_thres = None,  lr = 0.1):\n",
    "    # server_model = Model()\n",
    "    client_models = [copy.deepcopy(server_model) for i in range(2)]\n",
    "\n",
    "    memory = list()\n",
    "    memory.append(copy.deepcopy(server_model.weight.data.detach().cpu().numpy() * server_model.scale.data.detach().cpu().numpy()))\n",
    "    memory_w = list()\n",
    "    memory_w.append(copy.deepcopy(server_model.weight.data.detach().cpu().numpy()))\n",
    "    memory_b = list()\n",
    "    memory_b.append(copy.deepcopy(server_model.scale.data.detach().cpu().numpy()))\n",
    "    memory_loss = list()\n",
    "    memory_c1 = list()\n",
    "    memory_c1.append(copy.deepcopy(server_model.weight.data.detach().cpu().numpy()[0]**2 - server_model.scale.data.detach().cpu().numpy()**2))\n",
    "    memory_c2 = list()\n",
    "    memory_c2.append(copy.deepcopy(server_model.weight.data.detach().cpu().numpy()[1]**2 - server_model.scale.data.detach().cpu().numpy()**2))\n",
    "\n",
    "    import pandas as pd\n",
    "    if local_iter_thres == None: alg = \"FedAvg\"\n",
    "    else: alg = \"FedBug\"\n",
    "    def df_append(df, data): df.loc[len(df)] = data\n",
    "    df = pd.DataFrame(columns=[\"w1\", \"w2\", \"v\", \"alg\"])\n",
    "    df_append(df,  [copy.deepcopy(server_model.weight.data.detach().cpu().numpy()[0]), \n",
    "                    copy.deepcopy(server_model.weight.data.detach().cpu().numpy()[1]),\n",
    "                    copy.deepcopy(server_model.scale.data.detach().cpu().numpy()), alg])\n",
    "    for epoch in range(num_global_iters):  \n",
    "        \n",
    "        client_models = [copy.deepcopy(server_model) for i in range(2)]\n",
    "        optimizers = [optim.SGD(client_models[idx].parameters(), lr=lr) for idx in range(2)]\n",
    "        \n",
    "        for client_idx in range(2):\n",
    "            model, optimizer = client_models[client_idx], optimizers[client_idx]\n",
    "            X, Y = Data[client_idx]\n",
    "            for local_iter in range(num_local_iters):\n",
    "                \n",
    "                if local_iter_thres == None: model.scale.requires_grad = True\n",
    "                elif local_iter < local_iter_thres: model.scale.requires_grad = False\n",
    "                else: model.scale.requires_grad = True\n",
    "                                \n",
    "                pred = model(X)\n",
    "                loss = loss_func(pred, Y)\n",
    "                optimizer.zero_grad()\n",
    "                loss.backward()\n",
    "                optimizer.step()\n",
    "                if local_iter_thres == None: pass\n",
    "\n",
    "                memory_c1.append(copy.deepcopy(model.weight.data.detach().cpu().numpy()[0]**2 - model.scale.data.detach().cpu().numpy()**2))\n",
    "                memory_c2.append(copy.deepcopy(model.weight.data.detach().cpu().numpy()[1]**2 - model.scale.data.detach().cpu().numpy()**2))\n",
    "                \n",
    "        with torch.no_grad():\n",
    "            server_model.weight.data.copy_(copy.deepcopy((client_models[0].weight.data + client_models[1].weight.data)/2))\n",
    "            server_model.scale.data.copy_(copy.deepcopy((client_models[0].scale.data + client_models[1].scale.data)/2))\n",
    "            memory.append(copy.deepcopy(server_model.weight.data.detach().cpu().numpy() * server_model.scale.data.detach().cpu().numpy()))\n",
    "            memory_w.append(copy.deepcopy(server_model.weight.data.detach().cpu().numpy()))\n",
    "            memory_b.append(copy.deepcopy(server_model.scale.data.detach().cpu().numpy()))\n",
    "            memory_c1.append(copy.deepcopy(server_model.weight.data.detach().cpu().numpy()[0]**2 - server_model.scale.data.detach().cpu().numpy()**2))\n",
    "            memory_c2.append(copy.deepcopy(server_model.weight.data.detach().cpu().numpy()[1]**2 - server_model.scale.data.detach().cpu().numpy()**2))\n",
    "            df_append(df,  [copy.deepcopy(server_model.weight.data.detach().cpu().numpy()[0]), \n",
    "                            copy.deepcopy(server_model.weight.data.detach().cpu().numpy()[1]),\n",
    "                            copy.deepcopy(server_model.scale.data.detach().cpu().numpy()[0]), \n",
    "                            alg])\n",
    "            loss = 0\n",
    "            for client_idx in range(2):\n",
    "                X, Y = Data[client_idx]\n",
    "                pred = server_model(X)\n",
    "                loss += loss_func(pred, Y).item() / 2\n",
    "            memory_loss.append(loss)\n",
    "    memory = np.array(memory)\n",
    "    memory_loss = np.array(memory_loss)\n",
    "    memory_w = np.array(memory_w)\n",
    "    memory_b = np.array(memory_b)\n",
    "    return memory, memory_loss, memory_w, memory_b, memory_c1, memory_c2, df"
   ]
  },
  {
   "cell_type": "code",
   "execution_count": null,
   "id": "c9ffa7ae-5d7d-468e-92ce-86571bb7271b",
   "metadata": {},
   "outputs": [],
   "source": []
  },
  {
   "cell_type": "code",
   "execution_count": 38,
   "id": "3c524a98-a71f-4c6d-8c1d-bd8daffa2407",
   "metadata": {
    "tags": []
   },
   "outputs": [],
   "source": [
    "class Model(torch.nn.Module):\n",
    "    def __init__(self, w = [0.6, 3], v = 0.5):\n",
    "        super().__init__()\n",
    "        self.weight = torch.nn.Parameter(torch.Tensor(w),  requires_grad=True)\n",
    "        self.scale  = torch.nn.Parameter(torch.Tensor([v]),    requires_grad=True)\n",
    "    def forward(self, x): return x @ self.weight * self.scale\n",
    "Data = [[torch.Tensor([1, 0]), torch.Tensor([1])], \n",
    "        [torch.Tensor([0, 1]), torch.Tensor([1])]]\n",
    "\n",
    "lr = 0.1\n",
    "num_global_iters = 80\n",
    "num_local_iters = 40\n",
    "local_iter_thres = 10\n",
    "# memory, memory_loss, memory_w, memory_b, memory_c1, memory_c2, df = train(index = 0, num_global_iters = num_global_iters, num_local_iters = num_local_iters, local_iter_thres = None,  lr = lr)\n",
    "# memory2, memory_loss2, memory_w2, memory_b2, memory_c1_2, memory_c2_2, df2 = train(index = 0, num_global_iters = num_global_iters, num_local_iters = num_local_iters, local_iter_thres = local_iter_thres,  lr = lr)"
   ]
  },
  {
   "cell_type": "code",
   "execution_count": 90,
   "id": "cafeef4a-dbef-49cb-b71c-fff245d50fad",
   "metadata": {},
   "outputs": [
    {
     "name": "stdout",
     "output_type": "stream",
     "text": [
      "4\n",
      "9\n",
      "14\n",
      "19\n"
     ]
    },
    {
     "name": "stderr",
     "output_type": "stream",
     "text": [
      "/tmp/ipykernel_1627663/2229614549.py:14: RuntimeWarning:\n",
      "\n",
      "divide by zero encountered in log\n",
      "\n"
     ]
    },
    {
     "name": "stdout",
     "output_type": "stream",
     "text": [
      "24\n",
      "29\n",
      "34\n",
      "39\n",
      "44\n",
      "49\n"
     ]
    },
    {
     "name": "stderr",
     "output_type": "stream",
     "text": [
      "/tmp/ipykernel_1627663/2229614549.py:14: RuntimeWarning:\n",
      "\n",
      "divide by zero encountered in log\n",
      "\n"
     ]
    }
   ],
   "source": [
    "def df_append(df, data): df.loc[len(df)] = data\n",
    "df = pd.DataFrame(columns=[\"w1\", \"w2\", \"b\", \"loss_log_decay\", \"estimated_log_decay\", \"alg\", \"seed\"])\n",
    "\n",
    "alg = \"FedAvg\"\n",
    "for i in range(50):\n",
    "    \n",
    "    if (i+1) % 5 == 0: print(i)\n",
    "    np.random.seed(i)\n",
    "    w = np.random.rand(2)*2\n",
    "    v = np.random.rand(1)*2\n",
    "    model = Model(w = w, v = v)\n",
    "    memory, memory_loss, memory_w, memory_b, _, _, _ = train(model, num_global_iters = num_global_iters, num_local_iters = num_local_iters, local_iter_thres = None,  lr = lr)\n",
    "\n",
    "    loss_log_decay = (np.log(memory_loss)[10:20] - np.log(memory_loss)[11:21]).mean()\n",
    "    slope = -memory_b[-10:].mean()**2\n",
    "    model_log_decay = np.sin(np.arctan(slope))**2\n",
    "                           \n",
    "    df_append(df,  [w[0], w[1], v[0], loss_log_decay, model_log_decay, alg, i])"
   ]
  },
  {
   "cell_type": "code",
   "execution_count": 79,
   "id": "cc799728-3569-41bd-931f-91285c6f16b1",
   "metadata": {},
   "outputs": [
    {
     "data": {
      "text/plain": [
       "<AxesSubplot: xlabel='loss_log_decay', ylabel='estimated_log_decay'>"
      ]
     },
     "execution_count": 79,
     "metadata": {},
     "output_type": "execute_result"
    },
    {
     "data": {
      "image/png": "[encoded data removed]",
      "text/plain": [
       "<Figure size 640x480 with 1 Axes>"
      ]
     },
     "metadata": {},
     "output_type": "display_data"
    }
   ],
   "source": [
    "import seaborn as sns \n",
    "sns.scatterplot(data=df, x=\"loss_log_decay\", y=\"estimated_log_decay\", hue=\"alg\")"
   ]
  },
  {
   "cell_type": "code",
   "execution_count": 91,
   "id": "7ee9378a-2dd1-406e-90f6-e756cf3b45b9",
   "metadata": {},
   "outputs": [
    {
     "name": "stdout",
     "output_type": "stream",
     "text": [
      "4\n",
      "9\n",
      "14\n",
      "19\n"
     ]
    },
    {
     "name": "stderr",
     "output_type": "stream",
     "text": [
      "/tmp/ipykernel_1627663/3990918143.py:13: RuntimeWarning:\n",
      "\n",
      "divide by zero encountered in log\n",
      "\n"
     ]
    },
    {
     "name": "stdout",
     "output_type": "stream",
     "text": [
      "24\n",
      "29\n",
      "34\n"
     ]
    },
    {
     "name": "stderr",
     "output_type": "stream",
     "text": [
      "/tmp/ipykernel_1627663/3990918143.py:13: RuntimeWarning:\n",
      "\n",
      "divide by zero encountered in log\n",
      "\n",
      "/tmp/ipykernel_1627663/3990918143.py:13: RuntimeWarning:\n",
      "\n",
      "divide by zero encountered in log\n",
      "\n"
     ]
    },
    {
     "name": "stdout",
     "output_type": "stream",
     "text": [
      "39\n"
     ]
    },
    {
     "name": "stderr",
     "output_type": "stream",
     "text": [
      "/tmp/ipykernel_1627663/3990918143.py:13: RuntimeWarning:\n",
      "\n",
      "divide by zero encountered in log\n",
      "\n"
     ]
    },
    {
     "name": "stdout",
     "output_type": "stream",
     "text": [
      "44\n",
      "49\n",
      "4\n"
     ]
    },
    {
     "name": "stderr",
     "output_type": "stream",
     "text": [
      "/tmp/ipykernel_1627663/3990918143.py:13: RuntimeWarning:\n",
      "\n",
      "divide by zero encountered in log\n",
      "\n"
     ]
    },
    {
     "name": "stdout",
     "output_type": "stream",
     "text": [
      "9\n",
      "14\n"
     ]
    },
    {
     "name": "stderr",
     "output_type": "stream",
     "text": [
      "/tmp/ipykernel_1627663/3990918143.py:13: RuntimeWarning:\n",
      "\n",
      "divide by zero encountered in log\n",
      "\n"
     ]
    },
    {
     "name": "stdout",
     "output_type": "stream",
     "text": [
      "19\n"
     ]
    },
    {
     "name": "stderr",
     "output_type": "stream",
     "text": [
      "/tmp/ipykernel_1627663/3990918143.py:13: RuntimeWarning:\n",
      "\n",
      "divide by zero encountered in log\n",
      "\n"
     ]
    },
    {
     "name": "stdout",
     "output_type": "stream",
     "text": [
      "24\n"
     ]
    },
    {
     "name": "stderr",
     "output_type": "stream",
     "text": [
      "/tmp/ipykernel_1627663/3990918143.py:13: RuntimeWarning:\n",
      "\n",
      "divide by zero encountered in log\n",
      "\n",
      "/tmp/ipykernel_1627663/3990918143.py:13: RuntimeWarning:\n",
      "\n",
      "divide by zero encountered in log\n",
      "\n"
     ]
    },
    {
     "name": "stdout",
     "output_type": "stream",
     "text": [
      "29\n",
      "34\n",
      "39\n",
      "44\n"
     ]
    },
    {
     "name": "stderr",
     "output_type": "stream",
     "text": [
      "/tmp/ipykernel_1627663/3990918143.py:13: RuntimeWarning:\n",
      "\n",
      "divide by zero encountered in log\n",
      "\n"
     ]
    },
    {
     "name": "stdout",
     "output_type": "stream",
     "text": [
      "49\n"
     ]
    },
    {
     "name": "stderr",
     "output_type": "stream",
     "text": [
      "/tmp/ipykernel_1627663/3990918143.py:13: RuntimeWarning:\n",
      "\n",
      "divide by zero encountered in log\n",
      "\n"
     ]
    },
    {
     "name": "stdout",
     "output_type": "stream",
     "text": [
      "4\n",
      "9\n",
      "14\n",
      "19\n",
      "24\n"
     ]
    },
    {
     "name": "stderr",
     "output_type": "stream",
     "text": [
      "/tmp/ipykernel_1627663/3990918143.py:13: RuntimeWarning:\n",
      "\n",
      "divide by zero encountered in log\n",
      "\n"
     ]
    },
    {
     "name": "stdout",
     "output_type": "stream",
     "text": [
      "29\n",
      "34\n",
      "39\n",
      "44\n"
     ]
    },
    {
     "name": "stderr",
     "output_type": "stream",
     "text": [
      "/tmp/ipykernel_1627663/3990918143.py:13: RuntimeWarning:\n",
      "\n",
      "divide by zero encountered in log\n",
      "\n"
     ]
    },
    {
     "name": "stdout",
     "output_type": "stream",
     "text": [
      "49\n",
      "4\n"
     ]
    },
    {
     "name": "stderr",
     "output_type": "stream",
     "text": [
      "/tmp/ipykernel_1627663/3990918143.py:13: RuntimeWarning:\n",
      "\n",
      "divide by zero encountered in log\n",
      "\n"
     ]
    },
    {
     "name": "stdout",
     "output_type": "stream",
     "text": [
      "9\n",
      "14\n"
     ]
    },
    {
     "name": "stderr",
     "output_type": "stream",
     "text": [
      "/tmp/ipykernel_1627663/3990918143.py:13: RuntimeWarning:\n",
      "\n",
      "divide by zero encountered in log\n",
      "\n",
      "/tmp/ipykernel_1627663/3990918143.py:13: RuntimeWarning:\n",
      "\n",
      "divide by zero encountered in log\n",
      "\n"
     ]
    },
    {
     "name": "stdout",
     "output_type": "stream",
     "text": [
      "19\n",
      "24\n"
     ]
    },
    {
     "name": "stderr",
     "output_type": "stream",
     "text": [
      "/tmp/ipykernel_1627663/3990918143.py:13: RuntimeWarning:\n",
      "\n",
      "divide by zero encountered in log\n",
      "\n"
     ]
    },
    {
     "name": "stdout",
     "output_type": "stream",
     "text": [
      "29\n",
      "34\n"
     ]
    },
    {
     "name": "stderr",
     "output_type": "stream",
     "text": [
      "/tmp/ipykernel_1627663/3990918143.py:13: RuntimeWarning:\n",
      "\n",
      "divide by zero encountered in log\n",
      "\n"
     ]
    },
    {
     "name": "stdout",
     "output_type": "stream",
     "text": [
      "39\n"
     ]
    },
    {
     "name": "stderr",
     "output_type": "stream",
     "text": [
      "/tmp/ipykernel_1627663/3990918143.py:13: RuntimeWarning:\n",
      "\n",
      "divide by zero encountered in log\n",
      "\n"
     ]
    },
    {
     "name": "stdout",
     "output_type": "stream",
     "text": [
      "44\n",
      "49\n"
     ]
    }
   ],
   "source": [
    "def df_append(df, data): df.loc[len(df)] = data\n",
    "df_BUG = pd.DataFrame(columns=[\"w1\", \"w2\", \"b\", \"loss_log_decay\", \"estimated_log_decay\", \"alg\", \"seed\"])\n",
    "\n",
    "for num_local_step_frozen in [1,2,4,10]:\n",
    "    alg = \"FedBUG_\" + str(num_local_step_frozen)\n",
    "    for i in range(50):\n",
    "        if (i+1) % 5 == 0: print(i)\n",
    "        np.random.seed(i)\n",
    "        w = np.random.rand(2)*2\n",
    "        v = np.random.rand(1)*2\n",
    "        model = Model(w = w, v = v)\n",
    "        memory, memory_loss, memory_w, memory_b, _, _, _ = train(model, num_global_iters = num_global_iters, num_local_iters = num_local_iters, local_iter_thres = num_local_step_frozen,  lr = lr)\n",
    "        loss_log_decay = (np.log(memory_loss)[10:20] - np.log(memory_loss)[11:21]).mean()\n",
    "        slope = -memory_b[-10:].mean()**2\n",
    "        model_log_decay = np.sin(np.arctan(slope))**2                           \n",
    "        df_append(df_BUG,  [w[0], w[1], v[0], loss_log_decay, model_log_decay, alg, i])"
   ]
  },
  {
   "cell_type": "code",
   "execution_count": null,
   "id": "33c85ece-ab14-455d-8cd7-7dafaccc99a3",
   "metadata": {},
   "outputs": [],
   "source": []
  },
  {
   "cell_type": "code",
   "execution_count": 109,
   "id": "c014614a-e815-4029-b02e-f7728cd226b1",
   "metadata": {},
   "outputs": [
    {
     "data": {
      "image/png": "[encoded data removed]",
      "text/plain": [
       "<Figure size 640x480 with 1 Axes>"
      ]
     },
     "metadata": {},
     "output_type": "display_data"
    }
   ],
   "source": [
    "import seaborn as sns \n",
    "fig, axes = plt.subplots(1,1)\n",
    "ax = axes\n",
    "df_temp = copy.deepcopy(pd.concat([df, df_BUG]))\n",
    "df_temp[\"Algorithm\"] = df_temp[\"alg\"]\n",
    "replace_icon =   {\"FedAvg\": \"FedAvg\", \n",
    "                  \"FedBUG_1\":  \"FedBUG: 2.5%\", \n",
    "                  \"FedBUG_2\":  \"FedBUG: 5%\", \n",
    "                  \"FedBUG_4\":  \"FedBUG: 10%\", \n",
    "                  \"FedBUG_10\": \"FedBUG: 25%\", \n",
    "                 }\n",
    "sk = list(replace_icon.keys())\n",
    "df_temp = df_temp.set_index('Algorithm').loc[sk].reset_index()\n",
    "df_temp = df_temp.replace({\"Algorithm\": replace_icon})\n",
    "\n",
    "sns.scatterplot(data=df_temp, x=\"loss_log_decay\", y=\"estimated_log_decay\", hue=\"Algorithm\", ax=ax)\n",
    "maxv = 1.5\n",
    "ax.plot([0, maxv], [0, maxv], \"black\", linestyle='--', alpha=0.75)\n",
    "ax.set_ylim([0,maxv])\n",
    "ax.set_xlim([0,maxv])\n",
    "\n",
    "df_temp.to_csv(\"LogDecayDF_0424.csv\")"
   ]
  },
  {
   "cell_type": "code",
   "execution_count": null,
   "id": "c8ddfbb6-3a4f-4a16-a5b5-9c4207b6efe2",
   "metadata": {},
   "outputs": [],
   "source": []
  },
  {
   "cell_type": "code",
   "execution_count": null,
   "id": "d5c38317-0e13-45dc-8ee5-33da7b6015d6",
   "metadata": {},
   "outputs": [],
   "source": []
  },
  {
   "cell_type": "code",
   "execution_count": null,
   "id": "86831653-4831-4740-b740-b2c531fa2c2a",
   "metadata": {},
   "outputs": [],
   "source": []
  },
  {
   "cell_type": "code",
   "execution_count": null,
   "id": "97cf89cd-bf0b-46cb-94fa-15b88ab1af57",
   "metadata": {},
   "outputs": [],
   "source": []
  },
  {
   "cell_type": "code",
   "execution_count": null,
   "id": "f99e2041-aadb-40da-9350-9940c627a582",
   "metadata": {},
   "outputs": [],
   "source": []
  },
  {
   "cell_type": "code",
   "execution_count": null,
   "id": "d44e11bd-fbf1-494b-8f89-73bc49689e72",
   "metadata": {},
   "outputs": [],
   "source": []
  },
  {
   "cell_type": "code",
   "execution_count": null,
   "id": "83d890f2-eb9b-4250-ac80-c589191bac7d",
   "metadata": {},
   "outputs": [],
   "source": []
  },
  {
   "cell_type": "code",
   "execution_count": null,
   "id": "4288e939-d808-4886-950b-1fb503382764",
   "metadata": {},
   "outputs": [],
   "source": []
  },
  {
   "cell_type": "code",
   "execution_count": null,
   "id": "9dfc31f8-3a11-4c15-8bd1-21e7af0fef5b",
   "metadata": {},
   "outputs": [],
   "source": []
  },
  {
   "cell_type": "code",
   "execution_count": null,
   "id": "dc91ee5c-7ab2-4935-9ab2-e3912b892f55",
   "metadata": {},
   "outputs": [],
   "source": []
  },
  {
   "cell_type": "code",
   "execution_count": null,
   "id": "490e3ba0-eb1b-4317-a128-7fef9798729c",
   "metadata": {},
   "outputs": [],
   "source": []
  },
  {
   "cell_type": "code",
   "execution_count": null,
   "id": "b3befa9f-1ba4-4ab6-ae0e-ce57141c7493",
   "metadata": {},
   "outputs": [],
   "source": []
  },
  {
   "cell_type": "code",
   "execution_count": null,
   "id": "7af1fece-20a4-41cd-b114-db33a4a20b4c",
   "metadata": {},
   "outputs": [],
   "source": []
  },
  {
   "cell_type": "code",
   "execution_count": null,
   "id": "d602f899-5c9c-4e8b-8433-91a9458a45da",
   "metadata": {},
   "outputs": [],
   "source": []
  },
  {
   "cell_type": "code",
   "execution_count": null,
   "id": "a4385992-d3a2-48fe-a26b-7bae13c2ad5f",
   "metadata": {},
   "outputs": [],
   "source": []
  },
  {
   "cell_type": "code",
   "execution_count": null,
   "id": "8279b475-8ce6-43bb-a240-73d8cf2f1bba",
   "metadata": {},
   "outputs": [],
   "source": []
  },
  {
   "cell_type": "code",
   "execution_count": null,
   "id": "84920008-fbf8-4907-bc2c-d3317940ffa2",
   "metadata": {},
   "outputs": [],
   "source": []
  },
  {
   "cell_type": "code",
   "execution_count": null,
   "id": "1adb97d9-d33a-4580-9106-f25655885add",
   "metadata": {},
   "outputs": [],
   "source": []
  },
  {
   "cell_type": "code",
   "execution_count": null,
   "id": "3e72d483-8d75-4556-b229-14a42c40c33e",
   "metadata": {},
   "outputs": [],
   "source": []
  },
  {
   "cell_type": "code",
   "execution_count": null,
   "id": "1b45b575-258d-401f-886f-f60db171f44b",
   "metadata": {},
   "outputs": [],
   "source": []
  },
  {
   "cell_type": "code",
   "execution_count": null,
   "id": "33073f78-2a7b-4cd0-b483-a8b780c97f72",
   "metadata": {},
   "outputs": [],
   "source": []
  },
  {
   "cell_type": "code",
   "execution_count": null,
   "id": "153e5b80-4149-4799-a996-b4e56c0cbe3d",
   "metadata": {},
   "outputs": [],
   "source": []
  },
  {
   "cell_type": "code",
   "execution_count": null,
   "id": "5b4f83a1-b141-46be-8d5e-6ebc4d2553c4",
   "metadata": {},
   "outputs": [],
   "source": []
  },
  {
   "cell_type": "code",
   "execution_count": null,
   "id": "c03cf04a-b655-4b91-9d3e-5c054ae2dcd2",
   "metadata": {},
   "outputs": [],
   "source": []
  },
  {
   "cell_type": "code",
   "execution_count": null,
   "id": "df5cf942-36f6-416d-9c96-b3507eaa66e9",
   "metadata": {},
   "outputs": [],
   "source": []
  },
  {
   "cell_type": "code",
   "execution_count": null,
   "id": "de0f5f96-bdcd-4cdc-bbb5-f0400223574c",
   "metadata": {},
   "outputs": [],
   "source": []
  },
  {
   "cell_type": "code",
   "execution_count": null,
   "id": "4b6e9ff6-9813-4558-92b8-054e255beb04",
   "metadata": {},
   "outputs": [],
   "source": []
  },
  {
   "cell_type": "code",
   "execution_count": null,
   "id": "a6c511f6-bbed-4157-9e89-c82a83ee7fec",
   "metadata": {},
   "outputs": [],
   "source": []
  },
  {
   "cell_type": "code",
   "execution_count": null,
   "id": "15d12e82-cf4e-4fca-9a64-52ff60c545d2",
   "metadata": {},
   "outputs": [],
   "source": []
  }
 ],
 "metadata": {
  "kernelspec": {
   "display_name": "PT12",
   "language": "python",
   "name": "pt12"
  },
  "language_info": {
   "codemirror_mode": {
    "name": "ipython",
    "version": 3
   },
   "file_extension": ".py",
   "mimetype": "text/x-python",
   "name": "python",
   "nbconvert_exporter": "python",
   "pygments_lexer": "ipython3",
   "version": "3.10.8"
  },
  "vscode": {
   "interpreter": {
    "hash": "911082823b935954f569690431aaf3343c850ab1d8a79532ea0d692316d8d59e"
   }
  }
 },
 "nbformat": 4,
 "nbformat_minor": 5
}
